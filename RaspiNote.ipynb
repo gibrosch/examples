{
  "nbformat": 4,
  "nbformat_minor": 0,
  "metadata": {
    "colab": {
      "name": "RaspiNote.ipynb",
      "provenance": [],
      "authorship_tag": "ABX9TyMCabdpknQiLz6EWScTmtI3",
      "include_colab_link": true
    },
    "kernelspec": {
      "name": "python3",
      "display_name": "Python 3"
    }
  },
  "cells": [
    {
      "cell_type": "markdown",
      "metadata": {
        "id": "view-in-github",
        "colab_type": "text"
      },
      "source": [
        "<a href=\"https://colab.research.google.com/github/gibrosch/examples/blob/master/RaspiNote.ipynb\" target=\"_parent\"><img src=\"https://colab.research.google.com/assets/colab-badge.svg\" alt=\"Open In Colab\"/></a>"
      ]
    },
    {
      "cell_type": "markdown",
      "metadata": {
        "id": "w9SBwxxrVo3-"
      },
      "source": [
        "Einen Browser: chromium-browser – versteht sich und den unclutter damit wir den Mauszeiger ausblenden können. Dieser stört in den meisten fällen."
      ]
    },
    {
      "cell_type": "code",
      "metadata": {
        "id": "CVIoUWpDWJ55"
      },
      "source": [
        " sudo apt-get install unclutter"
      ],
      "execution_count": null,
      "outputs": []
    },
    {
      "cell_type": "markdown",
      "metadata": {
        "id": "LPo7KSYZV39b"
      },
      "source": [
        "#HDMI Dauerbetrieb"
      ]
    },
    {
      "cell_type": "markdown",
      "metadata": {
        "id": "73WXaonBULyo"
      },
      "source": [
        " https://www.elektronik-kompendium.de/sites/raspberry-pi/2107011.htm"
      ]
    },
    {
      "cell_type": "markdown",
      "metadata": {
        "id": "4Sx1Dm5SRhEw"
      },
      "source": [
        "Monitor-Standby im LXDE-Desktop dauerhaft abschalten\n",
        "Dazu öffnen wir folgende Konfigurationsdatei, die automatisch beim Login des aktuellen Benutzers ausgeführt wird."
      ]
    },
    {
      "cell_type": "code",
      "metadata": {
        "id": "GOOGDHx9TYNI"
      },
      "source": [
        " nano .config/lxsession/LXDE-pi/autostart"
      ],
      "execution_count": null,
      "outputs": []
    },
    {
      "cell_type": "code",
      "metadata": {
        "id": "KIYiXZ5dTZCF"
      },
      "source": [
        " @xset s noblank\n",
        "@xset s off\n",
        "@xset -dpms"
      ],
      "execution_count": null,
      "outputs": []
    },
    {
      "cell_type": "markdown",
      "metadata": {
        "id": "kH6ZllCrUzVR"
      },
      "source": [
        "Anschließend neustarten, wieder einloggen und prüfen, ob die Einstellungen übernommen wurden."
      ]
    },
    {
      "cell_type": "code",
      "metadata": {
        "id": "i5XtJEaaRggR"
      },
      "source": [
        " xset q"
      ],
      "execution_count": null,
      "outputs": []
    },
    {
      "cell_type": "markdown",
      "metadata": {
        "id": "SKlL8-hdVIDl"
      },
      "source": [
        " Folgende Angaben müssen vorhanden sein:"
      ]
    },
    {
      "cell_type": "code",
      "metadata": {
        "id": "GUY9o_t6VKhN"
      },
      "source": [
        " Screen Saver:\n",
        "prefer blanking:  no ...\n",
        "...\n",
        "DPMS is Disabled"
      ],
      "execution_count": null,
      "outputs": []
    }
  ]
}